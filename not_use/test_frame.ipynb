{
 "cells": [
  {
   "cell_type": "code",
   "execution_count": null,
   "id": "bdd56003",
   "metadata": {},
   "outputs": [
    {
     "name": "stdout",
     "output_type": "stream",
     "text": [
      "2025-10-09 14:57:56,507 - test_backendclient - INFO - Initialized TestBackendClient\n"
     ]
    }
   ],
   "source": [
    "from Generator import Generator\n",
    "from test_backendclient import TestBackendClient\n",
    "\n",
    "import logging\n",
    "import sys\n",
    "\n",
    "# 기존 핸들러들 제거 (중복 방지)\n",
    "for handler in logging.root.handlers[:]:\n",
    "    logging.root.removeHandler(handler)\n",
    "\n",
    "# 로깅 설정 추가 (콘솔 + 파일)\n",
    "logging.basicConfig(\n",
    "    level=logging.DEBUG,\n",
    "    format='%(asctime)s - %(name)s - %(levelname)s - %(message)s',\n",
    "    handlers=[\n",
    "        logging.StreamHandler(sys.stdout),  # 노트북 출력으로 로그 표시\n",
    "    ]\n",
    ")\n",
    "\n",
    "# 루트 로거 레벨 설정\n",
    "logger = logging.getLogger()\n",
    "logger.setLevel(logging.DEBUG)\n",
    "\n",
    "\n",
    "\n",
    "generator = Generator()\n",
    "backend_client = TestBackendClient()\n",
    "\n",
    "def load_artifacts(task_id: str):\n",
    "    job_id = \"test+job_id\"\n",
    "    artifacts = backend_client.load_artifacts(task_id, job_id)\n",
    "    return artifacts\n",
    "\n",
    "def invoke_scenarios_test(artifacts, task_id: str, job_id: str):\n",
    "    return None\n",
    "\n",
    "def test_frame(task_id):\n",
    "    try:\n",
    "        logger = logging.getLogger(\"test_frame\")\n",
    "        job_id = \"test_job_id\"\n",
    "        job_info = backend_client.load_job_info(task_id, job_id)\n",
    "\n",
    "        if not job_info:\n",
    "            raise NotImplementedError\n",
    "            print(\"No Job info\")\n",
    "\n",
    "        artifacts = backend_client.load_artifacts(task_id, job_id)\n",
    "\n",
    "        logger.info(f\"artifacts:{str(len(artifacts))}\")\n",
    "\n",
    "        if len(artifacts) == 0:\n",
    "            logger.info(\"No data report generating\")\n",
    "            generator.generate_no_data_report(task_id, job_id, job_info, backend_client)\n",
    "        else:\n",
    "            logger.info(\"generating report\")\n",
    "            generator.generate_report(task_id, job_id, artifacts, job_info, backend_client)\n",
    "    except Exception:\n",
    "        raise"
   ]
  },
  {
   "cell_type": "code",
   "execution_count": null,
   "id": "2ef06604",
   "metadata": {},
   "outputs": [
    {
     "name": "stdout",
     "output_type": "stream",
     "text": [
      "2025-10-09 14:57:57,636 - test_backendclient - INFO - [Test] load_job_info called for task test_task_id, job test_job_id\n",
      "2025-10-09 14:57:57,636 - test_backendclient - INFO - [Test] load_artifacts called for task test_task_id, job test_job_id\n",
      "2025-10-09 14:57:57,636 - test_frame - INFO - artifacts:12\n",
      "2025-10-09 14:57:57,637 - test_frame - INFO - generating report\n",
      "Count of artifacts: 12\n",
      "2025-10-09 14:57:57,637 - test_backendclient - INFO - [Test] save_scenario called for task test_task_id\n",
      "2025-10-09 14:57:57,637 - test_backendclient - DEBUG - {'job_id': 'test_job_id', 'task_id': 'test_task_id', 'report_detail_id': None, 'name': '내부 기밀 문서 유출', 'description': '\\n위 행위들을 종합적으로 분석하면, 사용자가 기밀 문서(Strategy2025.docx)를 열람 후 USB 저장장치에 복사했을 가능성이 높으며, 이어 외부 웹메일 접속까지 이루어진 정황이 확인된다. 또한, 메신저 로그 일부에서 동일한 문서명 언급이 발견되어, 전송 시도가 있었음을 강하게 시사한다.\\n다만, 실제 첨부/전송 여부는 네트워크 트래픽 캡처 부재로 인해 직접 확인되지 않았다.        \\n', 'steps': [{'order_no': 1, 'timestamp': None, 'description': '특정 기밀 문서 접근 정황', 'artifact_ids': []}, {'order_no': 2, 'timestamp': None, 'description': '8월 22일, 외부 USB 저장장치 연결', 'artifact_ids': []}, {'order_no': 3, 'timestamp': None, 'description': '크롬 브라우저를 통해 특정 외부 웹메일 서비스 접속 흔적 발견', 'artifact_ids': []}, {'order_no': 4, 'timestamp': None, 'description': '메신저 로그에서 문서명과 동일한 파일 전송 시도 정황 식별', 'artifact_ids': []}]}\n",
      "2025-10-09 14:57:57,637 - test_backendclient - INFO - [Test] Scenario for task test_task_id passed validation.\n",
      "2025-10-09 14:57:57,638 - test_backendclient - INFO - [Test] save_report called for task test_task_id\n",
      "2025-10-09 14:57:57,638 - test_backendclient - DEBUG - {'title': '윈도우 아티팩트 기반 정보 유출 진단 보고서', 'summary': '내부 기밀 문서 유출 가능성 존재함', 'pc_id': 'MAC_00-0C-29-EB-B3-7B', 'task_id': 'test_task_id', 'details': [{'section_type': <SectionTypeEnum.analysis_objective: 0>, 'content': '본 보고서는 특정 사용자 PC에서 발생한 의심스러운 행위들을 윈도우 아티팩트를 기반으로 분석하여, 내부 정보 유출 가능성을 진단하는 것을 목적으로 한다. 이를 통해 기업 자산의 보안 위협 수준을 평가하고, 향후 대응 방안을 마련하는 데 참고 자료로 활용한다.', 'order_no': None}, {'section_type': <SectionTypeEnum.data_collection_method: 1>, 'content': 'Agent 프로그램을 통해 대상 PC에서 아래에 해당하는 정보 수집\\n수집 대상 정보:\\nPrefetch 파일 (실행 이력)\\nLNK 파일 (최근 문서/폴더 접근 기록)\\n브라우저 아티팩트 (History, Cookie, Cache)\\nUSB 연결 이력 (SetupAPI, Registry)\\n메신저 로그 (WhatsApp, KakaoTalk PC 버전 등)', 'order_no': None}, {'section_type': <SectionTypeEnum.data_collection_period: 2>, 'content': '2025년 8월 20일 ~ 2025년 8월 25일', 'order_no': None}, {'section_type': <SectionTypeEnum.analysis_schedule: 3>, 'content': '분석 시작: 2025년 9월 17일 10:00 (KST)\\n분석 종료: 2025년 9월 17일 10:10 (KST)', 'order_no': None}, {'section_type': <SectionTypeEnum.analysis_method: 4>, 'content': '수집된 아티팩트 정리 및 무결성 검증(SHA256 해시 확인)\\n실행 이력(Prefetch) 및 접근 기록(LNK)을 기반으로 사용자 활동 재구성\\n브라우저 및 메신저 로그 분석을 통한 외부 전송 여부 확인\\nUSB 저장장치 연결 흔적 검토\\n행위별 타임라인 작성 및 유출 시나리오 평가', 'order_no': None}, {'section_type': <SectionTypeEnum.analysis_procedure: 5>, 'content': '', 'order_no': None}, {'section_type': <SectionTypeEnum.analysis_limitation: 6>, 'content': '본 분석은 정보유출 징후가 의심되는 사용자 PC에 남아 있는 정보유출 가능 경로로 한정하여, 본 보고서에 명시된 절차에 따라 수행되었습니다.\\n\\n분석 범위는 해당 장치에서 직접 확인하거나 수집 가능한 디지털 정보에 국한되며, 외부 저장매체, 네트워크 기록, 서버 로그 등은 포함되지 않았습니다.\\n\\n보고서에 기술된 일부 사항은 디지털 흔적과 정황 분석을 통한 합리적 추정으로, 명백한 사실로 단정할 수 없는 사안에 대해서는 별도 표시하였습니다.\\n\\n이러한 추정 사항은 현재로서는 객관적 증거력이 충분하지 않으므로, 향후 법률 자문을 거치고 보완 증거를 확보한 후 활용하시기 바랍니다.\\n\\n중요한 의사결정이나 법적 조치 이전에는 반드시 추가 검증을 실시하고, 필요시 공인된 디지털포렌식 전문기관의 재검토를 권장합니다.', 'order_no': None}, {'section_type': <SectionTypeEnum.key_findings: 7>, 'content': '8월 22일, 외부 USB 저장장치 연결 후 특정 기밀 문서 접근 정황 확인\\n\\n같은 날, 크롬 브라우저를 통해 특정 외부 웹메일 서비스 접속 흔적 발견\\n\\n메신저 로그에서 문서명과 동일한 파일 전송 시도 정황 식별\\n\\n일련의 행위를 종합했을 때, 기업 내부 문서 유출 가능성이 존재함', 'order_no': None}, {'section_type': <SectionTypeEnum.detailed_analysis: 8>, 'content': '상세 분석 내용 ~~~', 'order_no': None}, {'section_type': <SectionTypeEnum.Scenario_synthesis: 9>, 'content': '', 'order_no': None}, {'section_type': <SectionTypeEnum.result: 10>, 'content': '3.1 종합 요약\\n\\n사용자 PC에서 기밀 문서 열람 → USB 연결 → 웹메일 접속의 순차적 행위가 확인됨.\\n\\n일부 메신저 대화에서 해당 문서 전송 시도가 발견됨.\\n\\n외부 유출 가능성은 높으나, 확정적 증거 확보는 제한됨.', 'order_no': 1}, {'section_type': <SectionTypeEnum.result: 10>, 'content': '3.2 평가\\n유출로 의심되는 정황이 존재합니다. 다만 이러한 추정 사항은 현재로서는 객관적 증거력이 충분하지 않으므로, 향후 법률 자문을 거치고 보완 증거를 확보한 후 활용하시기 바랍니다.\\n\\n중요한 의사결정이나 법적 조치 이전에는 반드시 추가 검증을 실시하고, 필요시 공인된 디지털포렌식 전문기관의 재검토를 권장합니다.', 'order_no': 2}]}\n",
      "2025-10-09 14:57:57,638 - test_backendclient - INFO - [Test] Report for task test_task_id passed validation.\n"
     ]
    }
   ],
   "source": []
  }
 ],
 "metadata": {
  "kernelspec": {
   "display_name": ".langchain-venv",
   "language": "python",
   "name": "python3"
  },
  "language_info": {
   "codemirror_mode": {
    "name": "ipython",
    "version": 3
   },
   "file_extension": ".py",
   "mimetype": "text/x-python",
   "name": "python",
   "nbconvert_exporter": "python",
   "pygments_lexer": "ipython3",
   "version": "3.13.3"
  }
 },
 "nbformat": 4,
 "nbformat_minor": 5
}
