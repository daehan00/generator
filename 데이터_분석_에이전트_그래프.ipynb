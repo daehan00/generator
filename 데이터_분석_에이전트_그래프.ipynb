{
 "cells": [
  {
   "cell_type": "code",
   "execution_count": 1,
   "id": "a6293d8e",
   "metadata": {},
   "outputs": [],
   "source": [
    "import sys\n",
    "import os\n",
    "\n",
    "# 프로젝트 루트 추가 (노트북이 있는 디렉토리)\n",
    "project_root = os.path.dirname(os.path.abspath(\"__file__\")) if \"__file__\" in globals() else os.getcwd()\n",
    "if project_root not in sys.path:\n",
    "    sys.path.insert(0, project_root)"
   ]
  },
  {
   "cell_type": "code",
   "execution_count": 2,
   "id": "3358ec0e",
   "metadata": {},
   "outputs": [
    {
     "name": "stderr",
     "output_type": "stream",
     "text": [
      "WARNING: All log messages before absl::InitializeLog() is called are written to STDERR\n",
      "E0000 00:00:1760618269.044432 2518020 alts_credentials.cc:93] ALTS creds ignored. Not running on GCP and untrusted ALTS is not enabled.\n",
      "E0000 00:00:1760618269.046287 2518020 alts_credentials.cc:93] ALTS creds ignored. Not running on GCP and untrusted ALTS is not enabled.\n",
      "E0000 00:00:1760618269.046829 2518020 alts_credentials.cc:93] ALTS creds ignored. Not running on GCP and untrusted ALTS is not enabled.\n"
     ]
    },
    {
     "name": "stdout",
     "output_type": "stream",
     "text": [
      "✅ Graph compiled successfully!\n",
      "✅ Part 2 Graph compiled successfully (에이전트 분석 및 보고서 생성)!\n",
      "📝 초기 상태:\n",
      "  - Job ID: test_job_001\n",
      "  - Task ID: test_task_001\n",
      "  - 사용자 요구사항: \n",
      "사내에서 활용되는 교육생 개인정보유출 의심 활동을 분석해주세요.\n",
      "이정호 주임은 한국정보보호산업협회에서 교육프로그램 운영 실무자로, 보안 전문가 육성 관련 프로그램을 기획하고 진행하는 업무를 합니다. 따라서 기존 업무의 특성을 고려하여 정보를 수집해 주세요.\n",
      "  - 컬렉션: artifacts_collection\n"
     ]
    }
   ],
   "source": [
    "from typing import cast\n",
    "from workflow.rag_agent_workflow_part2 import app_part2, AgentState\n",
    "\n",
    "initial_state = {\n",
    "    \"job_id\": \"test_job_001\",\n",
    "    \"task_id\": \"test_task_001\",\n",
    "    \"job_info\": {\n",
    "        \"description\": \"정보유출 의심 사례 분석\",\n",
    "        \"pc_username\": \"이정호\",\n",
    "        \"pc_userrank\": \"주임\",\n",
    "        \"pc_usercompany\": \"한국정보보호산업협회\"\n",
    "    },\n",
    "    \"collection_name\": \"artifacts_collection\",\n",
    "    \"db_config\": None,\n",
    "    \"filtered_artifacts\": [],  # Part 1에서 필터링된 아티팩트 (실제로는 데이터 있음)\n",
    "    \"data_save_status\": \"success\",\n",
    "    \"raw_user_requirements\": \"\"\"\n",
    "사내에서 활용되는 교육생 개인정보유출 의심 활동을 분석해주세요.\n",
    "이정호 주임은 한국정보보호산업협회에서 교육프로그램 운영 실무자로, 보안 전문가 육성 관련 프로그램을 기획하고 진행하는 업무를 합니다. 따라서 기존 업무의 특성을 고려하여 정보를 수집해 주세요.\"\"\"\n",
    "}\n",
    "\n",
    "\n",
    "print(\"📝 초기 상태:\")\n",
    "print(f\"  - Job ID: {initial_state['job_id']}\")\n",
    "print(f\"  - Task ID: {initial_state['task_id']}\")\n",
    "print(f\"  - 사용자 요구사항: {initial_state['raw_user_requirements']}\")\n",
    "print(f\"  - 컬렉션: {initial_state['collection_name']}\")"
   ]
  },
  {
   "cell_type": "code",
   "execution_count": null,
   "id": "513f7d5c",
   "metadata": {},
   "outputs": [
    {
     "name": "stdout",
     "output_type": "stream",
     "text": [
      "🚀 워크플로우 실행 시작...\n",
      "\n",
      "--- 📋 Node: 요구사항 분석 중... ---\n",
      "  ✅ 요구사항 분석 완료\n",
      "     - 사용자 요구사항: 2201자\n",
      "--- 🤔 Agent: 추론 및 행동 결정 중... ---\n",
      "  📨 메시지 개수: 2개\n",
      "  🔧 도구 호출: 1개\n",
      "     - search_artifacts_tool\n",
      "--- ✅ Agent: 추론 완료 ---\n",
      "--- 🔎 Tool: 통합 검색 실행 ---\n",
      "  🧠 Step 1/2: 검색 쿼리 최적화 중...\n",
      "--- 🧠 Tool: 검색 쿼리 계획 중 ---\n",
      "  📊 메타데이터 분석 중...\n",
      "  ✅ 메타데이터 분석 완료:\n",
      "     - 전체 아티팩트: 4,391개\n",
      "     - Artifact Types: 10개, ['Discord.files_data', 'Edge.downloads_data', 'Edge.downloads_url_chains_data', 'Edge.urls_data', 'Edge.visited_links_data', 'Edge.visits_data', 'KakaoTalk.files_data', 'lnk_files_data', 'recycle_bin_files_data', 'usb_devices_data']\n",
      "     - 시간 범위: 2024-12-04T10:21:50 ~ 2025/09/30 14:50:02.120\n",
      "  ✅ 쿼리 생성 완료:\n",
      "     - query_text: USB 연결 기록, 클라우드 서비스 접속, 파일 업로드, 구글 드라이브, 드롭박스, 메가클라우드\n",
      "     - 1차 필터:\n",
      "       • artifact_types: ['usb_devices_data', 'Edge.downloads_data', 'Edge.downloads_url_chains_data', 'Edge.urls_data', 'Edge.visited_links_data', 'Edge.visits_data']\n",
      "       • datetime: (없음) ~ (없음)\n",
      "     - 2차 검색:\n",
      "       • max_results: 100\n",
      "       • similarity_threshold: 0.5\n",
      "  ✅ 쿼리 생성 완료\n",
      "  🔍 Step 2/2: 아티팩트 검색 중...\n",
      "--- 🔎 Tool: 2단계 검색 실행 ---\n",
      "  🔍 1차 필터 적용: {'artifact_type': {'$in': ['usb_devices_data', 'Edge.downloads_data', 'Edge.downloads_url_chains_data', 'Edge.urls_data', 'Edge.visited_links_data', 'Edge.visits_data']}}\n"
     ]
    },
    {
     "name": "stderr",
     "output_type": "stream",
     "text": [
      "E0000 00:00:1760618321.305135 2519879 alts_credentials.cc:93] ALTS creds ignored. Not running on GCP and untrusted ALTS is not enabled.\n"
     ]
    },
    {
     "name": "stdout",
     "output_type": "stream",
     "text": [
      "  📊 1차 필터 통과: 200개\n",
      "  📊 2차 필터 (유사도 0.5) 통과: 76개\n",
      "  ✅ 76개 검색 완료 (요청: 100개, 유사도 임계값 0.5로 필터링)\n",
      "  ✅ 통합 검색 완료: 76개 발견\n",
      "--- 🤔 Agent: 추론 및 행동 결정 중... ---\n",
      "  📨 메시지 개수: 4개\n",
      "  🔧 도구 호출: 1개\n",
      "     - search_artifacts_tool\n",
      "--- ✅ Agent: 추론 완료 ---\n",
      "--- 🔎 Tool: 통합 검색 실행 ---\n",
      "  🧠 Step 1/2: 검색 쿼리 최적화 중...\n",
      "--- 🧠 Tool: 검색 쿼리 계획 중 ---\n",
      "  📊 메타데이터 분석 중...\n",
      "  ✅ 메타데이터 분석 완료:\n",
      "     - 전체 아티팩트: 4,391개\n",
      "     - Artifact Types: 10개, ['Discord.files_data', 'Edge.downloads_data', 'Edge.downloads_url_chains_data', 'Edge.urls_data', 'Edge.visited_links_data', 'Edge.visits_data', 'KakaoTalk.files_data', 'lnk_files_data', 'recycle_bin_files_data', 'usb_devices_data']\n",
      "     - 시간 범위: 2024-12-04T10:21:50 ~ 2025/09/30 14:50:02.120\n",
      "  ✅ 쿼리 생성 완료:\n",
      "     - query_text: 교육생 명단 개인정보 수강생 리스트 파일 다운로드 기록\n",
      "     - 1차 필터:\n",
      "       • artifact_types: ['Edge.downloads_data', 'KakaoTalk.files_data', 'Discord.files_data', 'lnk_files_data', 'recycle_bin_files_data']\n",
      "       • datetime: (없음) ~ (없음)\n",
      "     - 2차 검색:\n",
      "       • max_results: 100\n",
      "       • similarity_threshold: 0.5\n",
      "  ✅ 쿼리 생성 완료\n",
      "  🔍 Step 2/2: 아티팩트 검색 중...\n",
      "--- 🔎 Tool: 2단계 검색 실행 ---\n",
      "  🔍 1차 필터 적용: {'artifact_type': {'$in': ['Edge.downloads_data', 'KakaoTalk.files_data', 'Discord.files_data', 'lnk_files_data', 'recycle_bin_files_data']}}\n"
     ]
    },
    {
     "name": "stderr",
     "output_type": "stream",
     "text": [
      "E0000 00:00:1760618342.826807 2520336 alts_credentials.cc:93] ALTS creds ignored. Not running on GCP and untrusted ALTS is not enabled.\n"
     ]
    },
    {
     "name": "stdout",
     "output_type": "stream",
     "text": [
      "  📊 1차 필터 통과: 200개\n",
      "  📊 2차 필터 (유사도 0.5) 통과: 24개\n",
      "  ✅ 24개 검색 완료 (요청: 100개, 유사도 임계값 0.5로 필터링)\n",
      "  ✅ 통합 검색 완료: 24개 발견\n",
      "--- 🤔 Agent: 추론 및 행동 결정 중... ---\n",
      "  📨 메시지 개수: 6개\n",
      "  🔧 도구 호출: 1개\n",
      "     - search_artifacts_tool\n",
      "--- ✅ Agent: 추론 완료 ---\n",
      "--- 🔎 Tool: 통합 검색 실행 ---\n",
      "  🧠 Step 1/2: 검색 쿼리 최적화 중...\n",
      "--- 🧠 Tool: 검색 쿼리 계획 중 ---\n",
      "  📊 메타데이터 분석 중...\n",
      "  ✅ 메타데이터 분석 완료:\n",
      "     - 전체 아티팩트: 4,391개\n",
      "     - Artifact Types: 10개, ['Discord.files_data', 'Edge.downloads_data', 'Edge.downloads_url_chains_data', 'Edge.urls_data', 'Edge.visited_links_data', 'Edge.visits_data', 'KakaoTalk.files_data', 'lnk_files_data', 'recycle_bin_files_data', 'usb_devices_data']\n",
      "     - 시간 범위: 2024-12-04T10:21:50 ~ 2025/09/30 14:50:02.120\n",
      "  ✅ 쿼리 생성 완료:\n",
      "     - query_text: 개별 활동보고서\n",
      "     - 1차 필터:\n",
      "       • artifact_types: ['Edge.downloads_data', 'lnk_files_data', 'recycle_bin_files_data']\n",
      "       • datetime: (없음) ~ (없음)\n",
      "     - 2차 검색:\n",
      "       • max_results: 100\n",
      "       • similarity_threshold: 0.5\n",
      "  ✅ 쿼리 생성 완료\n",
      "  🔍 Step 2/2: 아티팩트 검색 중...\n",
      "--- 🔎 Tool: 2단계 검색 실행 ---\n",
      "  🔍 1차 필터 적용: {'artifact_type': {'$in': ['Edge.downloads_data', 'lnk_files_data', 'recycle_bin_files_data']}}\n"
     ]
    },
    {
     "name": "stderr",
     "output_type": "stream",
     "text": [
      "E0000 00:00:1760618368.267146 2520919 alts_credentials.cc:93] ALTS creds ignored. Not running on GCP and untrusted ALTS is not enabled.\n"
     ]
    },
    {
     "name": "stdout",
     "output_type": "stream",
     "text": [
      "  📊 1차 필터 통과: 200개\n",
      "  📊 2차 필터 (유사도 0.5) 통과: 10개\n",
      "  ✅ 10개 검색 완료 (요청: 100개, 유사도 임계값 0.5로 필터링)\n",
      "  ✅ 통합 검색 완료: 10개 발견\n",
      "--- 🤔 Agent: 추론 및 행동 결정 중... ---\n",
      "  📨 메시지 개수: 8개\n",
      "  🔧 도구 호출: 1개\n",
      "     - search_artifacts_tool\n",
      "--- ✅ Agent: 추론 완료 ---\n",
      "--- 🔎 Tool: 통합 검색 실행 ---\n",
      "  🧠 Step 1/2: 검색 쿼리 최적화 중...\n",
      "--- 🧠 Tool: 검색 쿼리 계획 중 ---\n",
      "  📊 메타데이터 분석 중...\n",
      "  ✅ 메타데이터 분석 완료:\n",
      "     - 전체 아티팩트: 4,391개\n",
      "     - Artifact Types: 10개, ['Discord.files_data', 'Edge.downloads_data', 'Edge.downloads_url_chains_data', 'Edge.urls_data', 'Edge.visited_links_data', 'Edge.visits_data', 'KakaoTalk.files_data', 'lnk_files_data', 'recycle_bin_files_data', 'usb_devices_data']\n",
      "     - 시간 범위: 2024-12-04T10:21:50 ~ 2025/09/30 14:50:02.120\n",
      "  ✅ 쿼리 생성 완료:\n",
      "     - query_text: USB 연결 기록 및 클라우드 서비스 접속 기록\n",
      "     - 1차 필터:\n",
      "       • artifact_types: ['usb_devices_data', 'Edge.urls_data', 'Edge.visited_links_data', 'Edge.visits_data']\n",
      "       • datetime: (없음) ~ (없음)\n",
      "     - 2차 검색:\n",
      "       • max_results: 50\n",
      "       • similarity_threshold: 0.5\n",
      "  ✅ 쿼리 생성 완료\n",
      "  🔍 Step 2/2: 아티팩트 검색 중...\n",
      "--- 🔎 Tool: 2단계 검색 실행 ---\n",
      "  🔍 1차 필터 적용: {'artifact_type': {'$in': ['usb_devices_data', 'Edge.urls_data', 'Edge.visited_links_data', 'Edge.visits_data']}}\n"
     ]
    },
    {
     "name": "stderr",
     "output_type": "stream",
     "text": [
      "E0000 00:00:1760618394.802406 2521277 alts_credentials.cc:93] ALTS creds ignored. Not running on GCP and untrusted ALTS is not enabled.\n"
     ]
    },
    {
     "name": "stdout",
     "output_type": "stream",
     "text": [
      "  📊 1차 필터 통과: 100개\n",
      "  📊 2차 필터 (유사도 0.5) 통과: 50개\n",
      "  ✅ 50개 검색 완료\n",
      "  ✅ 통합 검색 완료: 50개 발견\n",
      "--- 🤔 Agent: 추론 및 행동 결정 중... ---\n",
      "  📨 메시지 개수: 10개\n",
      "  🔧 도구 호출: 1개\n",
      "     - search_artifacts_tool\n",
      "--- ✅ Agent: 추론 완료 ---\n",
      "--- 🔎 Tool: 통합 검색 실행 ---\n",
      "  🧠 Step 1/2: 검색 쿼리 최적화 중...\n",
      "--- 🧠 Tool: 검색 쿼리 계획 중 ---\n",
      "  📊 메타데이터 분석 중...\n",
      "  ✅ 메타데이터 분석 완료:\n",
      "     - 전체 아티팩트: 4,391개\n",
      "     - Artifact Types: 10개, ['Discord.files_data', 'Edge.downloads_data', 'Edge.downloads_url_chains_data', 'Edge.urls_data', 'Edge.visited_links_data', 'Edge.visits_data', 'KakaoTalk.files_data', 'lnk_files_data', 'recycle_bin_files_data', 'usb_devices_data']\n",
      "     - 시간 범위: 2024-12-04T10:21:50 ~ 2025/09/30 14:50:02.120\n",
      "  ✅ 쿼리 생성 완료:\n",
      "     - query_text: USB 연결 기록, 클라우드 서비스 접속, 파일 업로드, 구글 드라이브, 드롭박스, 메가클라우드\n",
      "     - 1차 필터:\n",
      "       • artifact_types: ['usb_devices_data', 'Edge.downloads_data', 'Edge.downloads_url_chains_data', 'Edge.urls_data', 'Edge.visited_links_data', 'Edge.visits_data']\n",
      "       • datetime: (없음) ~ (없음)\n",
      "     - 2차 검색:\n",
      "       • max_results: 100\n",
      "       • similarity_threshold: 0.5\n",
      "  ✅ 쿼리 생성 완료\n",
      "  🔍 Step 2/2: 아티팩트 검색 중...\n",
      "--- 🔎 Tool: 2단계 검색 실행 ---\n",
      "  🔍 1차 필터 적용: {'artifact_type': {'$in': ['usb_devices_data', 'Edge.downloads_data', 'Edge.downloads_url_chains_data', 'Edge.urls_data', 'Edge.visited_links_data', 'Edge.visits_data']}}\n"
     ]
    },
    {
     "name": "stderr",
     "output_type": "stream",
     "text": [
      "E0000 00:00:1760618425.910254 2521861 alts_credentials.cc:93] ALTS creds ignored. Not running on GCP and untrusted ALTS is not enabled.\n"
     ]
    },
    {
     "name": "stdout",
     "output_type": "stream",
     "text": [
      "  📊 1차 필터 통과: 200개\n",
      "  📊 2차 필터 (유사도 0.5) 통과: 76개\n",
      "  ✅ 76개 검색 완료 (요청: 100개, 유사도 임계값 0.5로 필터링)\n",
      "  ✅ 통합 검색 완료: 76개 발견\n",
      "--- 🤔 Agent: 추론 및 행동 결정 중... ---\n",
      "  📨 메시지 개수: 12개\n",
      "  🔧 도구 호출: 1개\n",
      "     - search_artifacts_tool\n",
      "--- ✅ Agent: 추론 완료 ---\n",
      "--- 🔎 Tool: 통합 검색 실행 ---\n",
      "  🧠 Step 1/2: 검색 쿼리 최적화 중...\n",
      "--- 🧠 Tool: 검색 쿼리 계획 중 ---\n",
      "  📊 메타데이터 분석 중...\n",
      "  ✅ 메타데이터 분석 완료:\n",
      "     - 전체 아티팩트: 4,391개\n",
      "     - Artifact Types: 10개, ['Discord.files_data', 'Edge.downloads_data', 'Edge.downloads_url_chains_data', 'Edge.urls_data', 'Edge.visited_links_data', 'Edge.visits_data', 'KakaoTalk.files_data', 'lnk_files_data', 'recycle_bin_files_data', 'usb_devices_data']\n",
      "     - 시간 범위: 2024-12-04T10:21:50 ~ 2025/09/30 14:50:02.120\n",
      "  ✅ 쿼리 생성 완료:\n",
      "     - query_text: 삭제된 '개별 활동보고서' 파일들이 USB 또는 구글 드라이브로 복사되거나 이동된 기록\n",
      "     - 1차 필터:\n",
      "       • artifact_types: ['usb_devices_data', 'recycle_bin_files_data']\n",
      "       • datetime: (없음) ~ (없음)\n",
      "     - 2차 검색:\n",
      "       • max_results: 100\n",
      "       • similarity_threshold: 0.5\n",
      "  ✅ 쿼리 생성 완료\n",
      "  🔍 Step 2/2: 아티팩트 검색 중...\n",
      "--- 🔎 Tool: 2단계 검색 실행 ---\n",
      "  🔍 1차 필터 적용: {'artifact_type': {'$in': ['usb_devices_data', 'recycle_bin_files_data']}}\n"
     ]
    },
    {
     "name": "stderr",
     "output_type": "stream",
     "text": [
      "E0000 00:00:1760618453.893845 2522349 alts_credentials.cc:93] ALTS creds ignored. Not running on GCP and untrusted ALTS is not enabled.\n"
     ]
    },
    {
     "name": "stdout",
     "output_type": "stream",
     "text": [
      "  📊 1차 필터 통과: 200개\n",
      "  📊 2차 필터 (유사도 0.5) 통과: 100개\n",
      "  ✅ 100개 검색 완료\n",
      "  ✅ 통합 검색 완료: 100개 발견\n",
      "--- 🤔 Agent: 추론 및 행동 결정 중... ---\n",
      "  📨 메시지 개수: 14개\n"
     ]
    }
   ],
   "source": [
    "try:\n",
    "    initial_state = cast(AgentState, initial_state)\n",
    "    # 워크플로우 실행\n",
    "    print(\"🚀 워크플로우 실행 시작...\\n\")\n",
    "    final_state = app_part2.invoke(\n",
    "        initial_state,\n",
    "        config={\"recursion_limit\": 80}  # 재귀 제한 증가\n",
    "    )  # type: ignore\n",
    "    \n",
    "    print(\"\\n\" + \"=\"*60)\n",
    "    print(\"✅ 워크플로우 실행 완료!\")\n",
    "    print(\"=\"*60 + \"\\n\")\n",
    "        \n",
    "except Exception as e:\n",
    "    print(f\"\\n❌ 오류 발생: {e}\")\n",
    "    import traceback\n",
    "    traceback.print_exc()"
   ]
  },
  {
   "cell_type": "code",
   "execution_count": null,
   "id": "4a34f7dd",
   "metadata": {},
   "outputs": [],
   "source": [
    "# 결과 출력\n",
    "final_report = final_state.get(\"final_report\")\n",
    "if final_report:\n",
    "    print(\"📊 최종 보고서:\")\n",
    "    print(f\"  - 제목: {final_report.name}\")\n",
    "    print(f\"  - 설명: {final_report.description}\")\n",
    "    print(f\"  - 단계 수: {len(final_report.steps)}개\")\n",
    "    print(f\"  - Job ID: {final_report.job_id}\")\n",
    "    print(f\"  - Task ID: {final_report.task_id}\")\n",
    "    \n",
    "    if final_report.steps:\n",
    "        print(\"\\n  📝 시나리오 단계:\")\n",
    "        for step in final_report.steps:\n",
    "            print(f\"    {step.order_no}. {step.description}\")\n",
    "            print(step.artifact_ids)\n",
    "else:\n",
    "    print(\"⚠️  최종 보고서가 생성되지 않았습니다.\")"
   ]
  },
  {
   "cell_type": "code",
   "execution_count": null,
   "id": "9608d8fe",
   "metadata": {},
   "outputs": [],
   "source": [
    "# 에이전트 메시지 디버깅\n",
    "from langchain_core.messages import HumanMessage, SystemMessage, AIMessage, ToolMessage\n",
    "import json\n",
    "\n",
    "messages = final_state[\"messages\"]\n",
    "\n",
    "# 1. 메시지 종류별 통계\n",
    "print(\"=\" * 60)\n",
    "print(\"📊 메시지 종류별 통계\")\n",
    "print(\"=\" * 60)\n",
    "\n",
    "message_types = {}\n",
    "for msg in messages:\n",
    "    msg_type = type(msg).__name__\n",
    "    message_types[msg_type] = message_types.get(msg_type, 0) + 1\n",
    "\n",
    "for msg_type, count in message_types.items():\n",
    "    print(f\"  {msg_type}: {count}개\")\n",
    "\n",
    "print(f\"\\n  전체 메시지 수: {len(messages)}개\\n\")\n",
    "\n",
    "# 2. 메시지 프린트\n",
    "print(\"=\" * 60)\n",
    "print(\"💬 메시지 상세 내역\")\n",
    "print(\"=\" * 60)\n",
    "\n",
    "for idx, msg in enumerate(messages, 1):\n",
    "    msg_type = type(msg).__name__\n",
    "    \n",
    "    print(f\"\\n[{idx}] {msg_type}\")\n",
    "    print(\"-\" * 60)\n",
    "    \n",
    "    if isinstance(msg, (HumanMessage, SystemMessage, AIMessage)):\n",
    "        content = msg.content\n",
    "        if isinstance(content, str) and len(content) > 200:\n",
    "            print(f\"{content}\")\n",
    "        else:\n",
    "            print(f\"{content}\")\n",
    "    \n",
    "    if isinstance(msg, ToolMessage):\n",
    "        print(f\"Tool: {msg.name if hasattr(msg, 'name') else 'N/A'}\")\n",
    "        content = msg.content\n",
    "        try:\n",
    "            # JSON 문자열인 경우 파싱하여 예쁘게 출력\n",
    "            parsed = json.loads(content) # type: ignore\n",
    "            print(json.dumps(parsed, indent=2, ensure_ascii=False))\n",
    "        except (json.JSONDecodeError, TypeError):\n",
    "            # JSON이 아니면 원본 그대로 출력\n",
    "            if isinstance(content, str) and len(content) > 200:\n",
    "                print(f\"{content}\")\n",
    "            else:\n",
    "                print(f\"{content}\")\n",
    "    \n",
    "    if isinstance(msg, AIMessage) and hasattr(msg, 'tool_calls') and msg.tool_calls:\n",
    "        print(f\"도구 호출: {len(msg.tool_calls)}개\")\n",
    "        for tool_call in msg.tool_calls:\n",
    "            print(f\"  - {tool_call.get('name', 'N/A')}\")\n",
    "\n",
    "print(\"\\n\" + \"=\" * 60)"
   ]
  }
 ],
 "metadata": {
  "kernelspec": {
   "display_name": "generator_venv",
   "language": "python",
   "name": "python3"
  },
  "language_info": {
   "codemirror_mode": {
    "name": "ipython",
    "version": 3
   },
   "file_extension": ".py",
   "mimetype": "text/x-python",
   "name": "python",
   "nbconvert_exporter": "python",
   "pygments_lexer": "ipython3",
   "version": "3.13.3"
  }
 },
 "nbformat": 4,
 "nbformat_minor": 5
}
