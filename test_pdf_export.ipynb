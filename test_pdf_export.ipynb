{
 "cells": [
  {
   "cell_type": "code",
   "execution_count": 1,
   "id": "ecd457e5",
   "metadata": {},
   "outputs": [
    {
     "name": "stdout",
     "output_type": "stream",
     "text": [
      "✅ PDF Export 모듈 로드 성공!\n",
      "✅ export_report_to_pdf: <function export_report_to_pdf at 0x0000028774A3A0C0>\n",
      "✅ PDFReportExporter: <class 'pdf_export.exporter.PDFReportExporter'>\n",
      "✅ S3Manager: <class 'pdf_export.s3_manager.S3Manager'>\n"
     ]
    }
   ],
   "source": [
    "# ========================================\n",
    "# PDF Export 모듈 로드 테스트\n",
    "# ========================================\n",
    "from pdf_export import export_report_to_pdf, PDFReportExporter\n",
    "from pdf_export import S3Manager\n",
    "\n",
    "print(\"✅ PDF Export 모듈 로드 성공!\")\n",
    "print(f\"✅ export_report_to_pdf: {export_report_to_pdf}\")\n",
    "print(f\"✅ PDFReportExporter: {PDFReportExporter}\")\n",
    "print(f\"✅ S3Manager: {S3Manager}\")"
   ]
  },
  {
   "cell_type": "code",
   "execution_count": 2,
   "id": "e8b0c7ae",
   "metadata": {},
   "outputs": [
    {
     "name": "stdout",
     "output_type": "stream",
     "text": [
      "✅ S3 클라이언트 초기화 완료: minha-report-bucket (리전: ap-northeast-2)\n",
      "✅ S3Manager 초기화 성공!\n",
      "✅ S3 버킷 연결 성공: minha-report-bucket\n",
      "✅ S3 버킷 연결 성공!\n"
     ]
    }
   ],
   "source": [
    "# ========================================\n",
    "# S3 연결 테스트\n",
    "# ========================================\n",
    "try:\n",
    "    s3 = S3Manager()\n",
    "    print(\"✅ S3Manager 초기화 성공!\")\n",
    "    \n",
    "    if s3.check_connection():\n",
    "        print(\"✅ S3 버킷 연결 성공!\")\n",
    "    else:\n",
    "        print(\"⚠️  S3 버킷 연결 실패\")\n",
    "        \n",
    "except Exception as e:\n",
    "    print(f\"⚠️  S3 설정 필요: {e}\")\n",
    "    print(\"\\n💡 .env 파일에 다음을 추가하세요:\")\n",
    "    print(\"   S3_BUCKET_NAME=your-bucket-name\")\n",
    "    print(\"   AWS_REGION=ap-northeast-2\")\n",
    "    print(\"   AWS_ACCESS_KEY_ID=your-key\")\n",
    "    print(\"   AWS_SECRET_ACCESS_KEY=your-secret\")"
   ]
  },
  {
   "cell_type": "code",
   "execution_count": 3,
   "id": "76b2ed53",
   "metadata": {},
   "outputs": [
    {
     "name": "stdout",
     "output_type": "stream",
     "text": [
      "✅ 샘플 데이터 준비 완료\n",
      "보고서 ID: test-report-001\n",
      "PC ID: DESKTOP-TEST-001\n"
     ]
    }
   ],
   "source": [
    "# ========================================\n",
    "# 샘플 보고서 데이터\n",
    "# ========================================\n",
    "sample_report = {\n",
    "    'report': {\n",
    "        'id': 'test-report-001',\n",
    "        'title': '정보 유출 진단 보고서',\n",
    "        'summary': 'HM Company 테스트',\n",
    "        'pc_id': 'DESKTOP-TEST-001',\n",
    "        'created_at': '2025년 10월 21일',\n",
    "        'created_by': 'Forensic Analysis AI Agent',\n",
    "        'link': None,\n",
    "        'task_id': 'test_task_001'\n",
    "    },\n",
    "    'main_sections': [\n",
    "        {\n",
    "            'main_id': 1,\n",
    "            'main_title': '개요',\n",
    "            'main_order': 1,\n",
    "            'sections': [\n",
    "                {\n",
    "                    'section_id': 0,\n",
    "                    'section_title': '분석 목적',\n",
    "                    'section_order': 1,\n",
    "                    'content': '본 분석의 목적은 대상 PC로부터 사내 주요 기밀정보(고객정보, 사내 데이터 등)의 유출 정황을 파악하는 것입니다.'\n",
    "                },\n",
    "                {\n",
    "                    'section_id': 1,\n",
    "                    'section_title': '데이터 수집',\n",
    "                    'section_order': 2,\n",
    "                    'content': '''본 분석은 HM Company 개발팀의 업무용 Windows PC에 대하여 정보를 수집하였습니다.\n",
    "\n",
    "| MAC 주소 | PC 이름 | 운영체제 | IP 주소 |\n",
    "|---|---|---|---|\n",
    "| 00-0C-29-EB-B3-7B | DESKTOP-4L4O6MI | Windows 11 | 192.168.74.135 |\n",
    "\n",
    "수집된 아티팩트는 브라우저 사용 내역, USB 연결 기록 등으로 구성됩니다.'''\n",
    "                }\n",
    "            ]\n",
    "        },\n",
    "        {\n",
    "            'main_id': 2,\n",
    "            'main_title': '분석 결과',\n",
    "            'main_order': 2,\n",
    "            'sections': [\n",
    "                {\n",
    "                    'section_id': 10,\n",
    "                    'section_title': '확인된 사실',\n",
    "                    'section_order': 1,\n",
    "                    'content': '''본 분석을 통해 확인된 사실은 다음과 같습니다.\n",
    "\n",
    "* **(사실 1)** 2025년 9월 15일 14시 47분 32초, 분석 대상 PC에서 압축 파일이 생성되었습니다.\n",
    "* **(사실 2)** 상기 압축 파일이 PC에서 삭제되었습니다.\n",
    "* **(사실 3)** 파일 삭제 직후 USB 장치가 연결되었습니다.'''\n",
    "                }\n",
    "            ]\n",
    "        }\n",
    "    ]\n",
    "}\n",
    "\n",
    "print(\"✅ 샘플 데이터 준비 완료\")\n",
    "print(f\"보고서 ID: {sample_report['report']['id']}\")\n",
    "print(f\"PC ID: {sample_report['report']['pc_id']}\")"
   ]
  }
 ],
 "metadata": {
  "kernelspec": {
   "display_name": ".venv",
   "language": "python",
   "name": "python3"
  },
  "language_info": {
   "codemirror_mode": {
    "name": "ipython",
    "version": 3
   },
   "file_extension": ".py",
   "mimetype": "text/x-python",
   "name": "python",
   "nbconvert_exporter": "python",
   "pygments_lexer": "ipython3",
   "version": "3.13.5"
  }
 },
 "nbformat": 4,
 "nbformat_minor": 5
}
