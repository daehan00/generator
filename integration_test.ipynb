{
 "cells": [
  {
   "cell_type": "code",
   "execution_count": null,
   "id": "52030829",
   "metadata": {},
   "outputs": [],
   "source": [
    "import sys\n",
    "import os\n",
    "\n",
    "# 프로젝트 루트 추가\n",
    "project_root = os.path.dirname(os.path.abspath(\"__file__\")) if \"__file__\" in globals() else os.getcwd()\n",
    "if project_root not in sys.path:\n",
    "    sys.path.insert(0, project_root)\n",
    "\n",
    "import time\n",
    "import functools\n",
    "def benchmark_runtime_decorator(func):\n",
    "    @functools.wraps(func)\n",
    "    def wrapper_benchmark_runtime(*args, **kwargs):\n",
    "        start_time = time.time()\n",
    "        result = func(*args, **kwargs)\n",
    "        end_time = time.time()\n",
    "        elapsed_time = end_time - start_time\n",
    "        elapsed_minute = int(elapsed_time / 60) if elapsed_time >= 60 else None\n",
    "        print(f\"Function '{func.__name__}' executed in {f\"{elapsed_minute} minutes \" if elapsed_minute else \"\"}{elapsed_time:.4f} seconds\")\n",
    "        return result\n",
    "\n",
    "    return wrapper_benchmark_runtime"
   ]
  },
  {
   "cell_type": "code",
   "execution_count": null,
   "id": "125dd3d5",
   "metadata": {},
   "outputs": [],
   "source": [
    "from common.Generator import Generator\n",
    "from common.test_backendclient import TestBackendClient as BackendClient\n",
    "import logging\n",
    "\n",
    "# 기존 핸들러 제거\n",
    "for handler in logging.root.handlers[:]:\n",
    "    logging.root.removeHandler(handler)\n",
    "\n",
    "# 기본 로깅 설정\n",
    "logging.basicConfig(\n",
    "    level=logging.INFO,\n",
    "    format='%(asctime)s - %(name)s - %(levelname)s - %(message)s',\n",
    "    handlers=[\n",
    "        logging.StreamHandler(sys.stdout),\n",
    "    ]\n",
    ")\n",
    "\n",
    "# 루트 로거 레벨\n",
    "logger = logging.getLogger()\n",
    "logger.setLevel(logging.DEBUG)\n",
    "\n",
    "backend_client = BackendClient()\n",
    "generator = Generator()\n",
    "\n",
    "generator._test_pdf_create(backend_client)"
   ]
  },
  {
   "cell_type": "code",
   "execution_count": null,
   "id": "ce9ee23b",
   "metadata": {},
   "outputs": [],
   "source": [
    "from common.Generator import Generator\n",
    "from common.test_backendclient import TestBackendClient as BackendClient\n",
    "from test.test_data_loader import test_data_loader_v1\n",
    "\n",
    "\n",
    "backend_client = BackendClient()\n",
    "generator = Generator()\n",
    "\n",
    "# task_id = \"session-20251002-052932-151e52e9\" # 10만개 데이터\n",
    "task_id = \"session-20251002-040520-28a9dc6c\" # 정호주임 pc\n",
    "\n",
    "job_id = \"73c94dcd-d1a1-41c4-9636-dd24816dfd9a\"\n",
    "\n",
    "@benchmark_runtime_decorator\n",
    "def load_artifacts():\n",
    "    artifacts = test_data_loader_v1(task_id)\n",
    "    print(f\"\\n✅ 총 {len(artifacts):,}개 아티팩트 로드 완료\")\n",
    "    return artifacts\n",
    "\n",
    "artifacts = load_artifacts()\n",
    "\n",
    "job_info = backend_client.load_job_info(task_id, job_id)\n",
    "print(job_info)"
   ]
  },
  {
   "cell_type": "code",
   "execution_count": null,
   "id": "a57d44ef",
   "metadata": {},
   "outputs": [],
   "source": [
    "@benchmark_runtime_decorator\n",
    "def generate_report(generator):\n",
    "    generator.generate_report(task_id, job_id, artifacts, job_info, backend_client)\n",
    "\n",
    "generate_report(generator)"
   ]
  },
  {
   "cell_type": "code",
   "execution_count": null,
   "id": "88b25388",
   "metadata": {},
   "outputs": [],
   "source": [
    "for item in generator.report:\n",
    "    if item[0] == 'details':\n",
    "        title, data = item\n",
    "        for i in data:\n",
    "            print(i.section_type.value, i.content)\n",
    "        continue\n",
    "    print(item)"
   ]
  }
 ],
 "metadata": {
  "kernelspec": {
   "display_name": "generator_venv",
   "language": "python",
   "name": "python3"
  },
  "language_info": {
   "codemirror_mode": {
    "name": "ipython",
    "version": 3
   },
   "file_extension": ".py",
   "mimetype": "text/x-python",
   "name": "python",
   "nbconvert_exporter": "python",
   "pygments_lexer": "ipython3",
   "version": "3.13.3"
  }
 },
 "nbformat": 4,
 "nbformat_minor": 5
}
