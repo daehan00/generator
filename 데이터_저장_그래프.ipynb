{
 "cells": [
  {
   "cell_type": "code",
   "execution_count": null,
   "id": "b2f68aa4",
   "metadata": {},
   "outputs": [],
   "source": [
    "import sys\n",
    "import os\n",
    "\n",
    "# 프로젝트 루트 추가 (노트북이 있는 디렉토리)\n",
    "project_root = os.path.dirname(os.path.abspath(\"__file__\")) if \"__file__\" in globals() else os.getcwd()\n",
    "if project_root not in sys.path:\n",
    "    sys.path.insert(0, project_root)"
   ]
  },
  {
   "cell_type": "code",
   "execution_count": null,
   "id": "df0b0858",
   "metadata": {},
   "outputs": [],
   "source": [
    "from workflow.rag_agent_workflow_part1 import app_part1, AgentState\n",
    "from workflow.classes import create_initial_state\n",
    "\n",
    "from test.test_data_loader import test_data_loader_v1\n",
    "\n",
    "# task_id = \"session-20251002-052932-151e52e9\" # 10만개 데이터\n",
    "task_id = \"session-20251002-040520-28a9dc6c\" # 정호주임 pc\n",
    "# task_id = \"session-20250930-133411-99e3becc\"\n",
    "# task_id = \"session-20251001-151642-1ff9e24a\"\n",
    "job_id = \"test+job_id\"\n",
    "\n",
    "print(\"🔄 아티팩트 생성 중...\")\n",
    "artifacts = test_data_loader_v1(task_id, months=12)\n",
    "\n",
    "print(f\"\\n✅ 총 {len(artifacts):,}개 아티팩트 로드 완료\")"
   ]
  },
  {
   "cell_type": "code",
   "execution_count": null,
   "id": "072815ab",
   "metadata": {},
   "outputs": [],
   "source": [
    "from IPython.display import Image, display\n",
    "display(Image(app_part1.get_graph(xray=True).draw_mermaid_png()))"
   ]
  },
  {
   "cell_type": "code",
   "execution_count": null,
   "id": "3068ce91",
   "metadata": {},
   "outputs": [],
   "source": [
    "print(f\"\\n🚀 분석 시작...\")\n",
    "\n",
    "initial_state = create_initial_state(\n",
    "    job_id=job_id,\n",
    "    task_id=task_id,\n",
    "    job_info={},\n",
    "    artifact_chunks=[artifacts],\n",
    "    intermediate_results=[],\n",
    "    filter_iteration=0,\n",
    "    target_artifact_count=100_000,\n",
    "    current_strictness=\"very_strict\",\n",
    "    raw_user_requirements=\"\"\n",
    ")\n",
    "\n",
    "import time\n",
    "from typing import cast\n",
    "start_time = time.time()\n",
    "\n",
    "initial_state = cast(AgentState, initial_state)\n",
    "final_state = app_part1.invoke(initial_state)\n",
    "elapsed_time = time.time() - start_time\n",
    "\n",
    "print(f\"\\n⏱️  총 처리 시간: {elapsed_time:.1f}초 ({elapsed_time/60:.1f}분)\")\n",
    "print(f\"🔍 필터링된 중요 아티팩트: {sum(len(r.important_artifacts) for r in final_state['intermediate_results'])}개\")\n"
   ]
  }
 ],
 "metadata": {
  "kernelspec": {
   "display_name": "Python 3",
   "language": "python",
   "name": "python3"
  },
  "language_info": {
   "codemirror_mode": {
    "name": "ipython",
    "version": 3
   },
   "file_extension": ".py",
   "mimetype": "text/x-python",
   "name": "python",
   "nbconvert_exporter": "python",
   "pygments_lexer": "ipython3",
   "version": "3.13.5"
  }
 },
 "nbformat": 4,
 "nbformat_minor": 5
}
